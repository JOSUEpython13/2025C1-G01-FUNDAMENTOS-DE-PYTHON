{
 "cells": [
  {
   "cell_type": "markdown",
   "metadata": {
    "id": "q7R3dARlFtDY"
   },
   "source": [
    "# Segundo análisis de casos – Fundamentos de Python\n",
    "\n",
    "## Objetivo:\n",
    "En esta tarea, practicaremos los fundamentos básicos de Python resolviendo **cuatro ejercicios** de la lista planteada. Cada solución debe detallar **entradas**, **procesos** y **salidas** para comprender mejor cómo funciona cada problema.\n",
    "\n",
    "### Formato para cada ejercicio (seleccionemos 4 ejercicios):\n",
    "#### Ejercicio X:\n",
    "- **Descripción del problema:** Incluiremos el enunciado del ejercicio.\n",
    "- **Entradas:** Detallaremos los datos que debemos ingresar.\n",
    "- **Proceso:** Explicaremos cómo resolveremos el problema (algoritmo o fórmula).\n",
    "- **Salidas:** Describiremos el resultado que veremos en pantalla al final del proceso.\n",
    "\n",
    "#### Código del ejercicio:\n",
    "- Escribiremos la solución del ejercicio en una celda de código Python.\n",
    "- Agregaremos comentarios para explicar el código y hacerlo más comprensible.\n",
    "\n",
    "### Conclusión:\n",
    "- Al final, resumiremos lo que hemos aprendido resolviendo los ejercicios.\n",
    "- Reflexionaremos sobre cómo Python nos ayuda a solucionar problemas cotidianos.\n",
    "\n",
    "## Formato de entrega del informe en PDF:\n",
    "\n",
    "Debemos exportar nuestro notebook de Jupyter a formato PDF, cumpliendo con las siguientes pautas:\n",
    "\n",
    "### Portada:\n",
    "- Título: \"Primer análisis de casos – Fundamentos de Python\".\n",
    "- Nuestro nombre completo.\n",
    "- Fecha de entrega.\n",
    "- Curso.\n",
    "\n",
    "### Cuerpo del informe:\n",
    "- **Introducción:** Explicaremos brevemente los ejercicios que hemos seleccionado.\n",
    "- **Desarrollo de cada ejercicio:**\n",
    "  - Descripción del problema.\n",
    "  - Entradas, procesos y salidas detallados.\n",
    "  - Capturas de pantalla del código y del resultado de la ejecución.\n",
    "\n",
    "### Conclusión:\n",
    "- Reflexionaremos sobre el aprendizaje y las posibles dificultades que enfrentamos durante la resolución de los ejercicios.\n",
    "\n",
    "## Lista de ejercicios (Seleccionemos 4):\n",
    "\n",
    "1. Calcular el área de un triángulo a partir de la base y altura ingresadas.\n",
    "2. Convertir una cantidad de dólares a colones.\n",
    "3. Convertir grados centígrados a Fahrenheit.\n",
    "4. Mostrar cuántos segundos tiene un lustro.\n",
    "5. Calcular el tiempo que le toma a la luz viajar del sol a Marte.\n",
    "6. Calcular cuántas vueltas da una llanta en 1 km.\n",
    "7. Calcular la longitud de la sombra de un edificio de 20 metros.\n",
    "8. Comparar si la edad ingresada por dos usuarios es la misma.\n",
    "9. Calcular cuántos meses han transcurrido desde nuestra fecha de nacimiento.\n",
    "10. Calcular el promedio de un alumno en 5 materias.\n",
    "\n",
    "## Proceso de entrega:\n",
    "1. Resolveremos 4 de los ejercicios propuestos en un notebook de.\n",
    "2. Exportaremos el notebook a PDF siguiendo el formato establecido.\n",
    "3. Subiremos el PDF y el archivo de notebook (.ipynb) a la plataforma antes de la fecha límite.\n"
   ]
  },
  {
   "cell_type": "markdown",
   "metadata": {},
   "source": [
    "# Problema #1\n",
    "\n",
    "### Convertir una cantidad de dólares a colones.\n",
    "\n",
    "## Entrada: \n",
    "Leer La cantidad de dolares\n",
    "Leer tipo cambio\n",
    "\n",
    "## Proceso:\n",
    "\n",
    "cantidad_dolares * tipo_cambio\n",
    "\n",
    "## Salida:\n",
    "\n",
    "resultado de la multiplicacion"
   ]
  },
  {
   "cell_type": "code",
   "execution_count": 2,
   "metadata": {
    "colab": {
     "base_uri": "https://localhost:8080/"
    },
    "executionInfo": {
     "elapsed": 10485,
     "status": "ok",
     "timestamp": 1712064323417,
     "user": {
      "displayName": "Andrés Mena Abarca",
      "userId": "07418092259593836578"
     },
     "user_tz": 360
    },
    "id": "n3rOsUESDeTs",
    "outputId": "1cd40ed7-f1d2-4b89-bca5-696418df0021"
   },
   "outputs": [
    {
     "name": "stdout",
     "output_type": "stream",
     "text": [
      "La cantidad de colones seria: 15450.0\n"
     ]
    }
   ],
   "source": [
    "#Convertir una cantidad de dólares a colones.\n",
    "#Autor: Josue Solano Redondo\n",
    "#entrada de datos\n",
    "dolares = input(\"Escriba la cantidad de dolares: \")\n",
    "dolares = float(dolares)\n",
    "cambio = input(\"Escriba el tipo de cambio de dolares: \")\n",
    "cambio = float(cambio)\n",
    "#proceso\n",
    "colones = dolares * cambio\n",
    "#salida\n",
    "print(f\"La cantidad de colones seria: {colones}\")"
   ]
  },
  {
   "cell_type": "markdown",
   "metadata": {},
   "source": [
    "# Problema #2\n",
    "\n",
    "### Definir problema\n",
    "Convertir grados centígrados a Fahrenheit.\n",
    "## Entrada:\n",
    "Leer cantidad de grados centigrados\n",
    "## Proceso:\n",
    "(grados centigrados * 9/5) + 32\n",
    "## Salida:\n",
    "Grados Fahrenheit (Resultado de la operacion de proceso)"
   ]
  },
  {
   "cell_type": "code",
   "execution_count": 4,
   "metadata": {},
   "outputs": [
    {
     "name": "stdout",
     "output_type": "stream",
     "text": [
      "La cantidad de grados Fahrenheit es: 77.0\n"
     ]
    }
   ],
   "source": [
    "#Convertir grados centigrados a Fahrenheit.\n",
    "#Autor: Josue Solano Redondo\n",
    "#entrada de datos\n",
    "grados_C = input(\"Escriba la cantidad de grados centigrados: \")\n",
    "grados_C = float(grados_C)\n",
    "#proceso\n",
    "grados_F = (grados_C * 9/5) + 32\n",
    "#salida\n",
    "print(f\"La cantidad de grados Fahrenheit es: {grados_F}\")"
   ]
  },
  {
   "cell_type": "markdown",
   "metadata": {},
   "source": [
    "# Problema #3\n",
    "\n",
    "### Definir problema\n",
    "Calcular cuántas vueltas da una llanta en 1 km\n",
    "## Entrada:\n",
    "Leer diametro de la llanta en metros\n",
    "## Proceso:\n",
    "Calcular circunferencia de la llanta (C = 3.1415 * diametro)\n",
    "Calcular vueltas (Dividir 1 km, 1000 metros entre la circunferencia) \n",
    "## Salida:\n",
    "Numero de vueltas"
   ]
  },
  {
   "cell_type": "code",
   "execution_count": null,
   "metadata": {},
   "outputs": [
    {
     "name": "stdout",
     "output_type": "stream",
     "text": [
      "La llanta de diametro 0.6 m, dara 530.5321237200912 vueltas en 1 km\n"
     ]
    }
   ],
   "source": [
    "#Calcular cuántas vueltas da una llanta en 1 km\n",
    "#Autor: Josue Solano Redondo\n",
    "#entrada de datos\n",
    "diametro = input(\"Escriba el diametro de la llanta en metros: \")\n",
    "diametro = float(diametro)\n",
    "#proceso\n",
    "pi = 3.1415\n",
    "circunferencia = diametro * pi # circunferencia de un circulo\n",
    "vueltas = 1000/circunferencia\n",
    "#salida\n",
    "print(f\"La llanta de diametro {diametro} m, dara {vueltas} vueltas en 1 km\")\n",
    "\n",
    "\n",
    "\n",
    "\n"
   ]
  },
  {
   "cell_type": "markdown",
   "metadata": {},
   "source": [
    "# Problema #4\n",
    "\n",
    "### Definir problema\n",
    "Calcular el tiempo que le toma a la luz viajar del sol a Marte\n",
    "## Entrada:\n",
    "Definir distancia del Sol a Marte\n",
    "Definir velocidad de la luz\n",
    "## Proceso:\n",
    "tiempo = distancia / velocidad\n",
    "## Salida:\n",
    "tiempo que dura la luz viajando del Sol a Marte"
   ]
  },
  {
   "cell_type": "code",
   "execution_count": 7,
   "metadata": {},
   "outputs": [
    {
     "name": "stdout",
     "output_type": "stream",
     "text": [
      "La luz duraria 0.210330693361057 horas en viajar del Sol a Marte\n",
      "La luz duraria 12.61984160166342 minutos en viajar del Sol a Marte\n",
      "La luz duraria 757.1904960998053 segundos en viajar del Sol a Marte\n"
     ]
    }
   ],
   "source": [
    "#Calcular el tiempo que le toma a la luz viajar del sol a Marte\n",
    "#Autor: Josue Solano Redondo\n",
    "#entrada de datos\n",
    "distancia_sol_marte = 227000000 #distancia en kilometros\n",
    "velocidad_luz = 1079252848.8 #velocidad en kilometros por hora\n",
    "#proceso\n",
    "tiempo_horas = distancia_sol_marte/velocidad_luz #resultado en horas\n",
    "tiempo_minutos = tiempo_horas * 60 #resultado en minutos\n",
    "tiempo_segundos = tiempo_minutos * 60 #resultado en segundos\n",
    "#salida\n",
    "print(f\"La luz duraria {tiempo_horas} horas en viajar del Sol a Marte\\nLa luz duraria {tiempo_minutos} minutos en viajar del Sol a Marte\\nLa luz duraria {tiempo_segundos} segundos en viajar del Sol a Marte\")"
   ]
  }
 ],
 "metadata": {
  "colab": {
   "provenance": []
  },
  "kernelspec": {
   "display_name": "Python 3",
   "name": "python3"
  },
  "language_info": {
   "codemirror_mode": {
    "name": "ipython",
    "version": 3
   },
   "file_extension": ".py",
   "mimetype": "text/x-python",
   "name": "python",
   "nbconvert_exporter": "python",
   "pygments_lexer": "ipython3",
   "version": "3.13.2"
  }
 },
 "nbformat": 4,
 "nbformat_minor": 0
}
