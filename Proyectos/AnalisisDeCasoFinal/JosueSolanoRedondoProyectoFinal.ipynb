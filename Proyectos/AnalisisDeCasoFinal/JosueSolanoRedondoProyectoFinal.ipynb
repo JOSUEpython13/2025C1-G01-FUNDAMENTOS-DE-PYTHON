{
    "cells": [
        {
            "attachments": {},
            "cell_type": "markdown",
            "metadata": {
                "azdata_cell_guid": "43094d38-2acc-463a-bdf3-97ba90623fe5",
                "id": "a62202dd"
            },
            "source": [
                "# 📊 Caso de análisis: Emisiones de dióxido de carbono por país (1975-2017)\n",
                "## 🧠 Objetivo:\n",
                "Los estudiantes deben analizar la evolución de las emisiones de CO₂ en varios países desde 1975 hasta 2017, distinguiendo entre:\n",
                "\n",
                "- Emisiones totales: Miden la cantidad total de CO₂ emitido en un país.\n",
                "\n",
                "- Emisiones per cápita: Indican cuántas toneladas métricas de CO₂ emite, en promedio, una persona en ese país."
            ]
        },
        {
            "attachments": {},
            "cell_type": "markdown",
            "metadata": {
                "azdata_cell_guid": "aaf7af2f-c9dd-4e9e-9de1-6543ad2e0064"
            },
            "source": [
                "## <mark>Estudiante: \\> Josue Solano Redondo</mark>\n",
                "https://github.com/JOSUEpython13/2025C1-G01-FUNDAMENTOS-DE-PYTHON/blob/main/Proyectos/AnalisisDeCasoFinal/JosueSolanoRedondoProyectoFinal.ipynb"
            ]
        },
        {
            "cell_type": "markdown",
            "metadata": {
                "azdata_cell_guid": "5d6834bd-ea61-4f0a-b586-a118753e31a9",
                "id": "e21e6b1c"
            },
            "source": [
                "## Contexto\n"
            ]
        },
        {
            "cell_type": "markdown",
            "metadata": {
                "azdata_cell_guid": "5b449223-cfd9-4324-8796-a7688878110c",
                "id": "c4c7df65"
            },
            "source": [
                "🌍 Análisis de Emisiones de CO₂ – Caso Práctico\n",
                "📁 Archivo: Carbon_Dioxide_Emission_Estimates.csv\n",
                "Contiene datos de emisiones de dióxido de carbono (CO₂) de varios países entre 1975 y 2017.\n",
                "\n",
                "🧾 Estructura de los datos\n",
                "- Country: País\n",
                "\n",
                "- Year: Año\n",
                "\n",
                "- Type: Tipo de emisión:\n",
                "\n",
                "    * Emisiones totales (kilotoneladas métricas)\n",
                "\n",
                "    * Emisiones per cápita (toneladas métricas por persona)\n",
                "\n",
                "- Value: Valor numérico de la emisión\n",
                "\n",
                "🔍 Tipos de emisiones\n",
                "- Totales: CO₂ emitido por todo el país (kt)\n",
                "\n",
                "- Per cápita: CO₂ promedio por persona (t CO₂/persona)\n",
                "\n",
                "    - Se calcula dividiendo emisiones totales por la población"
            ]
        },
        {
            "cell_type": "code",
            "execution_count": 1,
            "metadata": {},
            "outputs": [
                {
                    "name": "stdout",
                    "output_type": "stream",
                    "text": [
                        "Type\n",
                        "Emisiones (kilotoneladas mï¿½tricas de diï¿½xido de carbono)           1066\n",
                        "Emisiones per capita (toneladas mï¿½tricas de diï¿½xido de carbono)    1066\n",
                        "Name: count, dtype: int64\n"
                    ]
                }
            ],
            "source": [
                "#Importa el CSV como un DataFrame\n",
                "import csv, os, pandas as pd\n",
                "df = pd.read_csv(\"Estimaciones_Emisiones_Dioxido_Carbono.csv\", sep=',', encoding='latin1', on_bad_lines='skip')\n",
                "#El separador del archivo es un \",\"\n",
                "#Tiene tildes y eñes\n",
                "#Hay lineas que no cumplen el formato de las de mas linea 364 hasta la linea 379\n",
                "#print(df)\n",
                "print(df['Type'].value_counts())"
            ]
        },
        {
            "cell_type": "markdown",
            "metadata": {
                "azdata_cell_guid": "32151a06-fbc4-4fc0-9810-bdd34abdb6fd",
                "id": "352UFM-aEWCT"
            },
            "source": [
                "# Pregunta 1\n",
                "\n",
                "1. Crear un dataframe con el nombre de variable 'df_emisions_co2' usando únicamente las filas cuya columna 'Type' tiene el valor 'Emisiones totales de CO₂ emitidas por el país'\n",
                "\n",
                "2. Crear un dataframe con el nombre de variable 'df_emisions_co2_per_capita' usando únicamente las filas cuya columna 'Type' tiene el valor 'Emisiones promedio de CO₂ emitidas por habitante'."
            ]
        },
        {
            "cell_type": "code",
            "execution_count": 2,
            "metadata": {},
            "outputs": [],
            "source": [
                "#Crea un copia del original filtrado como df_emisions_co2\n",
                "# Filtra el DataFrame original\n",
                "df_emisions_co2 = df[df['Type'] == 'Emisiones (kilotoneladas mï¿½tricas de diï¿½xido de carbono)']\n"
            ]
        },
        {
            "cell_type": "code",
            "execution_count": 3,
            "metadata": {},
            "outputs": [],
            "source": [
                "#Crea un copia del original filtrado como df_emisions_co2_per_capita\n",
                "df_emisions_co2_per_capita = df[df['Type'] == 'Emisiones per capita (toneladas mï¿½tricas de diï¿½xido de carbono)']\n",
                "#Apartir del dataframe \"df\" se crea el dataframe df_emisions_co2_per_capita, sel filtra por la columna type\n"
            ]
        },
        {
            "cell_type": "markdown",
            "metadata": {
                "azdata_cell_guid": "66dbee89-6a74-42d6-b532-a95779ccc82a",
                "id": "d6bd6661"
            },
            "source": [
                "# Pregunta 2"
            ]
        },
        {
            "cell_type": "markdown",
            "metadata": {
                "azdata_cell_guid": "b30cf472-64d8-453a-b581-4d01915e9a38",
                "id": "3299b6b5"
            },
            "source": [
                "Cuántas filas tiene el dataframe 'df_emisions_co2'?"
            ]
        },
        {
            "cell_type": "code",
            "execution_count": 4,
            "metadata": {
                "azdata_cell_guid": "63fba01e-a296-4e37-badf-df51ee463964",
                "id": "f02d60cc",
                "language": "python"
            },
            "outputs": [
                {
                    "name": "stdout",
                    "output_type": "stream",
                    "text": [
                        "Total de Lineas 1066\n"
                    ]
                }
            ],
            "source": [
                "# Coloque el código que responda a la pregunta aqui\n",
                "total_lineas_co2 = df_emisions_co2.shape[0]\n",
                "print(f\"Total de Lineas {total_lineas_co2}\")"
            ]
        },
        {
            "cell_type": "markdown",
            "metadata": {
                "azdata_cell_guid": "5f8f7bed-99e7-4c3b-b621-d430915552a9",
                "id": "880f891d"
            },
            "source": [
                "# Pregunta 2"
            ]
        },
        {
            "cell_type": "markdown",
            "metadata": {
                "azdata_cell_guid": "3025751b-734d-491a-a0f2-e454076155fa",
                "id": "34700c9d"
            },
            "source": [
                "Cuál en el valor más alto de emisiones (en general) usando el dataframe 'df_emisions_co2'?"
            ]
        },
        {
            "cell_type": "code",
            "execution_count": 5,
            "metadata": {
                "azdata_cell_guid": "675d06d0-c52d-4848-8c84-b3503476d7e3",
                "id": "24bdf93a",
                "language": "python"
            },
            "outputs": [
                {
                    "name": "stdout",
                    "output_type": "stream",
                    "text": [
                        "    Country  Year                                               Type  \\\n",
                        "353   China  2017  Emisiones (kilotoneladas mï¿½tricas de diï¿½xi...   \n",
                        "\n",
                        "         Value  \n",
                        "353  9257933.9  \n"
                    ]
                }
            ],
            "source": [
                "# Coloque el código que responda a la pregunta aqui exactamente lo que se pregunta\n",
                "#Obtener el valor maximo\n",
                "valor_maximo = df_emisions_co2['Value'].max()\n",
                "#Obtener la fila completa con el valor maximo\n",
                "fila_maxima = df_emisions_co2[df_emisions_co2['Value'] == valor_maximo]\n",
                "print(fila_maxima) "
            ]
        },
        {
            "cell_type": "markdown",
            "metadata": {
                "azdata_cell_guid": "97637f7a-fb3b-4b24-a6e8-769427d8c984",
                "id": "7ebd3621"
            },
            "source": [
                "# Pregunta 3"
            ]
        },
        {
            "cell_type": "markdown",
            "metadata": {
                "azdata_cell_guid": "4f9d7b44-d0e8-4705-8fa0-9a84d56774cf",
                "id": "eb81f1c8"
            },
            "source": [
                "Cuántos países (Countries) hay en el dataframe 'df_emisions_co2'?"
            ]
        },
        {
            "cell_type": "code",
            "execution_count": 6,
            "metadata": {
                "azdata_cell_guid": "207fdf39-e7dd-4ac4-b3f4-a129a75f2a6d",
                "id": "4f60454b",
                "language": "python"
            },
            "outputs": [
                {
                    "name": "stdout",
                    "output_type": "stream",
                    "text": [
                        "Cantidad de países: 142\n"
                    ]
                }
            ],
            "source": [
                "# Coloque el código que responda a la pregunta aqui exactamente lo que se pregunta\n",
                "cantidad_paises = df_emisions_co2['Country'].nunique() #filtra por nombres unicos en columna \"Country\"\n",
                "print(f\"Cantidad de países: {cantidad_paises}\")"
            ]
        },
        {
            "cell_type": "code",
            "execution_count": 7,
            "metadata": {
                "azdata_cell_guid": "52f1ec4f-654f-43c8-a541-2fe225b3a476",
                "id": "2f46faa0",
                "language": "python"
            },
            "outputs": [
                {
                    "name": "stdout",
                    "output_type": "stream",
                    "text": [
                        "['Albania', 'Algeria', 'Angola', 'Argentina', 'Armenia', 'Australia', 'Austria', 'Azerbaijan', 'Bahrain', 'Bangladesh', 'Belarus', 'Belgium', 'Benin', 'Bolivia (Plurin. State of)', 'Bosnia and Herzegovina', 'Botswana', 'Brazil', 'Brunei Darussalam', 'Bulgaria', 'Cambodia', 'Cameroon', 'Canada', 'Chile', 'China', 'Hong Kong SAR', 'Colombia', 'Congo', 'Costa Rica', 'CÃ´te dâ\\x80\\x99Ivoire', 'Croatia', 'Cuba', 'CuraÃ§ao', 'Cyprus', 'Czechia', \"Dem. People's Rep. Korea\", 'Dem. Rep. of the Congo', 'Denmark', 'Dominican Republic', 'Ecuador', 'Egypt', 'El Salvador', 'Eritrea', 'Estonia', 'Ethiopia', 'Finland', 'France', 'Gabon', 'Georgia', 'Germany', 'Ghana', 'Gibraltar', 'Greece', 'Guatemala', 'Haiti', 'Honduras', 'Hungary', 'Iceland', 'India', 'Indonesia', 'Iran (Islamic Republic of)', 'Iraq', 'Ireland', 'Israel', 'Italy', 'Jamaica', 'Japan', 'Jordan', 'Kazakhstan', 'Kenya', 'Kosovo', 'Kuwait', 'Kyrgyzstan', 'Latvia', 'Lebanon', 'Libya', 'Lithuania', 'Luxembourg', 'Malaysia', 'Malta', 'Mauritius', 'Mexico', 'Mongolia', 'Montenegro', 'Morocco', 'Mozambique', 'Myanmar', 'Namibia', 'Nepal', 'Netherlands', 'New Zealand', 'Nicaragua', 'Niger', 'Nigeria', 'Norway', 'Oman', 'Pakistan', 'Panama', 'Paraguay', 'Peru', 'Philippines', 'Poland', 'Portugal', 'Qatar', 'Republic of Korea', 'Republic of Moldova', 'Romania', 'Russian Federation', 'Saudi Arabia', 'Senegal', 'Serbia', 'Singapore', 'Slovakia', 'Slovenia', 'South Africa', 'South Sudan', 'Spain', 'Sri Lanka', 'Sudan', 'Suriname', 'Sweden', 'Switzerland', 'Syrian Arab Republic', 'Tajikistan', 'Thailand', 'North Macedonia', 'Togo', 'Trinidad and Tobago', 'Tunisia', 'Turkey', 'Turkmenistan', 'Ukraine', 'United Arab Emirates', 'United Kingdom', 'United Rep. of Tanzania', 'United States of America', 'Uruguay', 'Uzbekistan', 'Venezuela (Boliv. Rep. of)', 'Viet Nam', 'Yemen', 'Zambia', 'Zimbabwe']\n"
                    ]
                }
            ],
            "source": [
                "#Imprima un lista con todos los paises\n",
                "lista_paises = df_emisions_co2['Country'].unique().tolist() #pasa los paises a una lista\n",
                "print(lista_paises)\n"
            ]
        },
        {
            "cell_type": "markdown",
            "metadata": {
                "azdata_cell_guid": "30e5c2d6-95aa-4bda-ad89-2b581a214d82",
                "id": "1e40352a"
            },
            "source": [
                "# Pregunta 4"
            ]
        },
        {
            "cell_type": "markdown",
            "metadata": {
                "azdata_cell_guid": "d4c1a6a0-d184-4feb-9c6e-a934c52d0343",
                "id": "80c46908"
            },
            "source": [
                "Cuál es el país que tiene mayor emisiones usando el dataframe 'df_emisions_co2'?"
            ]
        },
        {
            "cell_type": "code",
            "execution_count": 8,
            "metadata": {
                "azdata_cell_guid": "ee5ff21c-8288-42a9-9212-4d88ff639e85",
                "id": "e6df7d42",
                "language": "python"
            },
            "outputs": [
                {
                    "name": "stdout",
                    "output_type": "stream",
                    "text": [
                        "País con mayores emisiones acumuladas: China\n",
                        "Emisiones totales: 46219584.789000005\n"
                    ]
                }
            ],
            "source": [
                "# Coloque el código que responda a la pregunta aqui exactamente lo que se pregunta\n",
                "# Sumar las emisiones por país\n",
                "emisiones_por_pais = df_emisions_co2.groupby('Country')['Value'].sum()\n",
                "\n",
                "# Encontrar el país con mayores emisiones acumuladas\n",
                "pais_mayor_emisiones = emisiones_por_pais.idxmax()\n",
                "emisiones_totales = emisiones_por_pais.max()\n",
                "\n",
                "print(f\"País con mayores emisiones acumuladas: {pais_mayor_emisiones}\")\n",
                "print(f\"Emisiones totales: {emisiones_totales}\")"
            ]
        },
        {
            "cell_type": "markdown",
            "metadata": {
                "azdata_cell_guid": "da6c194b-ecdd-42b0-82ca-210d6b74f57f",
                "id": "26c97fde"
            },
            "source": [
                "# Pregunta 5"
            ]
        },
        {
            "cell_type": "markdown",
            "metadata": {
                "azdata_cell_guid": "a5cf8867-358a-40cb-9933-027dd8e06aa3",
                "id": "541f44ca"
            },
            "source": [
                "Cuál es el año que tiene mayor emisiones para el país de Spain usando el dataframe 'df_emisions_co2'?"
            ]
        },
        {
            "cell_type": "code",
            "execution_count": 9,
            "metadata": {
                "azdata_cell_guid": "10e7e0fe-162a-4b2a-a01e-db2bd04b6865",
                "id": "c32f62d1",
                "language": "python"
            },
            "outputs": [
                {
                    "name": "stdout",
                    "output_type": "stream",
                    "text": [
                        "Año con mayores emisiones para Spain: 2005\n"
                    ]
                }
            ],
            "source": [
                "# Coloque el código que responda a la pregunta aqui exactamente lo que se pregunta\n",
                "# Filtrar solo los datos de Spain\n",
                "emisiones_spain = df_emisions_co2[df_emisions_co2['Country'] == 'Spain']\n",
                "\n",
                "# Encontrar el año con el valor máximo de emisiones\n",
                "max_emisiones = emisiones_spain[emisiones_spain['Value'] == emisiones_spain['Value'].max()]['Year'].values[0]\n",
                "\n",
                "print(f\"Año con mayores emisiones para Spain: {max_emisiones}\")\n"
            ]
        },
        {
            "cell_type": "markdown",
            "metadata": {
                "azdata_cell_guid": "78a2c35d-5ca9-4cc2-9890-05b367218238",
                "id": "55ce4564"
            },
            "source": [
                "# Pregunta 6"
            ]
        },
        {
            "cell_type": "markdown",
            "metadata": {
                "azdata_cell_guid": "048ff587-0368-4c8c-930d-678786aa18c3",
                "id": "3473e4f2"
            },
            "source": [
                "Cuáles son los años que se tiene registros para el dataframe 'df_emisions_co2_per_capita'?\n",
                "\n",
                "Entrege una lista con los años sin repetirse"
            ]
        },
        {
            "cell_type": "code",
            "execution_count": 10,
            "metadata": {
                "azdata_cell_guid": "75d9cbc6-d254-49d4-8cfc-7b0f74456608",
                "id": "5ad50924",
                "language": "python"
            },
            "outputs": [
                {
                    "name": "stdout",
                    "output_type": "stream",
                    "text": [
                        "Años con registros:\n",
                        "[1975, 1985, 1995, 2005, 2010, 2015, 2016, 2017]\n"
                    ]
                }
            ],
            "source": [
                "# Coloque el código que responda a la pregunta aqui exactamente lo que se pregunta\n",
                "# Obtener los años únicos\n",
                "lista_años = df_emisions_co2_per_capita['Year'].unique().tolist()\n",
                "\n",
                "# Ordenar la lista\n",
                "lista_años.sort()\n",
                "\n",
                "print(\"Años con registros:\")\n",
                "print(lista_años)\n"
            ]
        },
        {
            "cell_type": "markdown",
            "metadata": {
                "azdata_cell_guid": "8cee75a7-4fcc-47eb-883a-641aa900bc51",
                "id": "18fa522e"
            },
            "source": [
                "# Pregunta 7"
            ]
        },
        {
            "cell_type": "markdown",
            "metadata": {
                "azdata_cell_guid": "8532f291-3bd2-4da4-9eb3-7ac69e49b4a5",
                "id": "2747ce42"
            },
            "source": [
                "Cuántas son las emisiones en 'kilotoneladas métricas' en total usando todos los países usando el dataframe 'df_emisions_co2'?\n"
            ]
        },
        {
            "cell_type": "code",
            "execution_count": 11,
            "metadata": {
                "azdata_cell_guid": "3b4710af-d857-49ce-9b19-931839541d39",
                "id": "e8cbd117",
                "language": "python"
            },
            "outputs": [
                {
                    "name": "stdout",
                    "output_type": "stream",
                    "text": [
                        "Total de emisiones (kilotoneladas métricas): 195028250.41599998\n"
                    ]
                }
            ],
            "source": [
                "# Coloque el código que responda a la pregunta aqui exactamente lo que se pregunta\n",
                "# Sumar todas las emisiones\n",
                "total_emisiones = df_emisions_co2['Value'].sum()\n",
                "\n",
                "print(f\"Total de emisiones (kilotoneladas métricas): {total_emisiones}\")\n"
            ]
        },
        {
            "cell_type": "markdown",
            "metadata": {
                "azdata_cell_guid": "ddfe093b-e52f-4379-8062-efedfbddb684",
                "id": "42aa86db"
            },
            "source": [
                "# Pregunta 8"
            ]
        },
        {
            "cell_type": "markdown",
            "metadata": {
                "azdata_cell_guid": "ce742599-a5c4-41c7-87f1-7a881676c09f",
                "id": "a303974d"
            },
            "source": [
                "Cuántas son las emisiones en 'kilotoneladas métricas' sólo para Albania usando el dataframe 'df_emisions_co2'?\n"
            ]
        },
        {
            "cell_type": "code",
            "execution_count": 12,
            "metadata": {
                "azdata_cell_guid": "86c46d24-2812-47a3-aa64-fd2d6981cf9a",
                "id": "181ab815",
                "language": "python"
            },
            "outputs": [
                {
                    "name": "stdout",
                    "output_type": "stream",
                    "text": [
                        "Total de emisiones de Albania (kilotoneladas métricas): 32713.283000000003\n"
                    ]
                }
            ],
            "source": [
                "# Coloque el código que responda a la pregunta aqui exactamente lo que se pregunta\n",
                "# Filtrar solo los datos de Albania y sumar las emisiones\n",
                "total_emisiones_albania = df_emisions_co2[df_emisions_co2['Country'] == 'Albania']['Value'].sum()\n",
                "\n",
                "print(f\"Total de emisiones de Albania (kilotoneladas métricas): {total_emisiones_albania}\")\n"
            ]
        },
        {
            "cell_type": "markdown",
            "metadata": {
                "azdata_cell_guid": "5d5b3bfb-2643-45d0-ba92-b53affb67c17",
                "id": "d084c9f3"
            },
            "source": [
                "# Pregunta 9"
            ]
        },
        {
            "cell_type": "markdown",
            "metadata": {
                "azdata_cell_guid": "acd10e28-cde4-48c3-bba9-eee6323b06cc",
                "id": "ae9cebff"
            },
            "source": [
                "Cuántas son las emisiones totales en 'libras' sólo para Costa Rica usando el dataframe 'df_emisions_co2'?\n"
            ]
        },
        {
            "cell_type": "code",
            "execution_count": 13,
            "metadata": {
                "azdata_cell_guid": "8c372164-c8f6-4e72-9fd3-2b7c1eaf0499",
                "id": "ee97d492",
                "language": "python"
            },
            "outputs": [
                {
                    "name": "stdout",
                    "output_type": "stream",
                    "text": [
                        "Total de emisiones de Costa Rica (libras): 93085906154.34001\n"
                    ]
                }
            ],
            "source": [
                "# Coloque el código que responda a la pregunta aqui exactamente lo que se pregunta\n",
                "#1 kilotonelada métrica = 2,204,620 libras\n",
                "# Factor de conversión de kilotoneladas métricas a libras\n",
                "factor_conversion = 2204620\n",
                "\n",
                "# Filtrar datos de Costa Rica y calcular emisiones totales en libras\n",
                "emisiones_libras_costa_rica = df_emisions_co2[df_emisions_co2['Country'] == 'Costa Rica']['Value'].sum() * factor_conversion\n",
                "\n",
                "print(f\"Total de emisiones de Costa Rica (libras): {emisiones_libras_costa_rica}\")\n"
            ]
        },
        {
            "cell_type": "markdown",
            "metadata": {
                "azdata_cell_guid": "e505d100-2c39-45a3-9c7d-70c1f83b268d",
                "id": "eb6dfc54"
            },
            "source": [
                "# Pregunta 10"
            ]
        },
        {
            "cell_type": "markdown",
            "metadata": {
                "azdata_cell_guid": "cfe25701-d219-459b-a108-75787ee1f8ae",
                "id": "5862817e"
            },
            "source": [
                "Para sólo 'Costa Rica' y suponiendo que las emisiones se estancan a partir del último año reportado (se mantiene igual). Cuántas son las emisiones en 'Kg' sólo para Costa Rica en el año desde el ultimo año hasta el 2025 usando el dataframe 'df_emisions_co2'?\n"
            ]
        },
        {
            "cell_type": "code",
            "execution_count": 15,
            "metadata": {
                "azdata_cell_guid": "c65ecf97-b679-4808-91cc-fe771ce12b6b",
                "id": "76ed009c",
                "language": "python"
            },
            "outputs": [
                {
                    "name": "stdout",
                    "output_type": "stream",
                    "text": [
                        "2017\n",
                        "7584.411\n",
                        "9\n",
                        "Último año con registro para Costa Rica: 2017\n",
                        "Emisiones estimadas (kg) desde 2017 hasta 2025: 68259699000.0\n"
                    ]
                }
            ],
            "source": [
                "# Coloque el código que responda a la pregunta aqui exactamente lo que se pregunta\n",
                "# Filtrar datos de Costa Rica, se crea dataframe solo para Costa Rica\n",
                "emisiones_cr = df_emisions_co2[df_emisions_co2['Country'] == 'Costa Rica']\n",
                "\n",
                "# Encontrar el último año reportado\n",
                "ultimo_año = emisiones_cr['Year'].max()\n",
                "print(ultimo_año)\n",
                "\n",
                "# Obtener las emisiones de ese año\n",
                "emisiones_ultimo_año = emisiones_cr[emisiones_cr['Year'] == ultimo_año]['Value'].values[0]\n",
                "print(emisiones_ultimo_año)\n",
                "\n",
                "# Calcular cuántos años hay entre el último año y 2025 (inclusive)\n",
                "años_a_sumar = 2025 - ultimo_año + 1\n",
                "print(años_a_sumar)\n",
                "\n",
                "# Calcular emisiones totales en kilogramos\n",
                "# 1 kilotonelada = 1,000,000 kilogramos\n",
                "emisiones_totales_kg = emisiones_ultimo_año * 1000000 * años_a_sumar\n",
                "\n",
                "print(f\"Último año con registro para Costa Rica: {ultimo_año}\")\n",
                "print(f\"Emisiones estimadas (kg) desde {ultimo_año} hasta 2025: {emisiones_totales_kg}\")\n"
            ]
        },
        {
            "cell_type": "markdown",
            "metadata": {
                "azdata_cell_guid": "46cbe15c-fe3e-440c-8d83-8c8f73e4d5a7",
                "id": "1c18874b"
            },
            "source": [
                "# Pregunta 12"
            ]
        },
        {
            "cell_type": "markdown",
            "metadata": {
                "azdata_cell_guid": "14dc18b7-8bdb-41a5-a5eb-34da63fef812",
                "id": "6a487c43"
            },
            "source": [
                "Para sólo los países de Centroamérica ['El Salvador', 'Honduras', 'Guatemala', 'Costa Rica', 'Nicaragua'] obtener un reporte por año de las emisiones totales en Centroamérica usando el dataframe 'df_emisions_co2'?\n",
                "Se espera un dataframe de 2 columnas: 'Year' y 'total_por_año'"
            ]
        },
        {
            "cell_type": "code",
            "execution_count": 16,
            "metadata": {
                "azdata_cell_guid": "ba31d64d-a10b-4275-b19e-86f3e18984b6",
                "id": "1d0426bf",
                "language": "python"
            },
            "outputs": [
                {
                    "name": "stdout",
                    "output_type": "stream",
                    "text": [
                        "   Year  total_por_año\n",
                        "0  1975       9860.972\n",
                        "1  1985      10250.333\n",
                        "2  1995      20960.234\n",
                        "3  2005      33562.291\n",
                        "4  2010      34533.555\n",
                        "5  2015      43107.376\n",
                        "6  2016      44366.072\n",
                        "7  2017      43556.261\n"
                    ]
                }
            ],
            "source": [
                "# Coloque el código que responda a la pregunta aqui exactamente lo que se pregunta\n",
                "# Lista de países de Centroamérica\n",
                "paises_centroamerica = ['El Salvador', 'Honduras', 'Guatemala', 'Costa Rica', 'Nicaragua']\n",
                "\n",
                "# Filtrar solo los datos de esos países\n",
                "df_centroamerica = df_emisions_co2[df_emisions_co2['Country'].isin(paises_centroamerica)]\n",
                "#print(df_centroamerica)\n",
                "\n",
                "# Agrupar por año y sumar las emisiones\n",
                "reporte_centroamerica = df_centroamerica.groupby('Year')['Value'].sum().reset_index()\n",
                "\n",
                "# Renombrar las columnas\n",
                "reporte_centroamerica.columns = ['Year', 'total_por_año']\n",
                "\n",
                "# Mostrar el DataFrame resultante\n",
                "print(reporte_centroamerica)\n"
            ]
        },
        {
            "cell_type": "markdown",
            "metadata": {
                "azdata_cell_guid": "77c94d71-c324-4495-88c1-90cb5953b117",
                "id": "8fdaae3d"
            },
            "source": [
                "# Pregunta 13"
            ]
        },
        {
            "cell_type": "markdown",
            "metadata": {
                "azdata_cell_guid": "e4379b6f-d518-49e9-ba6a-181999caae36",
                "id": "8a7e17ff"
            },
            "source": [
                "Para sólo los países de Centroamérica ['El Salvador', 'Honduras', 'Guatemala', 'Costa Rica', 'Nicaragua'] obtener un reporte por año de las emisiones en promedio en Centroamérica usando el dataframe 'df_emisions_co2_per_capita'?\n",
                "Se espera un dataframe de 2 columnas: 'Year' y 'promedio_por_año'"
            ]
        },
        {
            "cell_type": "code",
            "execution_count": 17,
            "metadata": {
                "azdata_cell_guid": "b8107b3d-4b45-45e3-9c3e-2e20c56ed7a9",
                "id": "4ec787f4",
                "language": "python"
            },
            "outputs": [
                {
                    "name": "stdout",
                    "output_type": "stream",
                    "text": [
                        "   Year  promedio_por_año\n",
                        "0  1975            0.5690\n",
                        "1  1985            0.4620\n",
                        "2  1995            0.7626\n",
                        "3  2005            0.9720\n",
                        "4  2010            0.9538\n",
                        "5  2015            1.0572\n",
                        "6  2016            1.0720\n",
                        "7  2017            1.0422\n"
                    ]
                }
            ],
            "source": [
                "# Coloque el código que responda a la pregunta aqui exactamente lo que se pregunta\n",
                "# Lista de países de Centroamérica\n",
                "paises_centroamerica = ['El Salvador', 'Honduras', 'Guatemala', 'Costa Rica', 'Nicaragua']\n",
                "\n",
                "# Filtrar los datos por esos países\n",
                "df_centroamerica_per_capita = df_emisions_co2_per_capita[df_emisions_co2_per_capita['Country'].isin(paises_centroamerica)]\n",
                "#print(df_centroamerica_per_capita)\n",
                "\n",
                "# Agrupar por año y calcular el promedio de emisiones per cápita\n",
                "reporte_promedio_centroamerica = df_centroamerica_per_capita.groupby('Year')['Value'].mean().reset_index()\n",
                "\n",
                "# Renombrar las columnas\n",
                "reporte_promedio_centroamerica.columns = ['Year', 'promedio_por_año']\n",
                "\n",
                "# Mostrar el DataFrame resultante\n",
                "print(reporte_promedio_centroamerica)\n"
            ]
        },
        {
            "cell_type": "markdown",
            "metadata": {
                "azdata_cell_guid": "0a62ff93-d68b-48da-b993-51cc40362107",
                "id": "944ac865"
            },
            "source": [
                "# Pregunta 14"
            ]
        },
        {
            "cell_type": "markdown",
            "metadata": {
                "azdata_cell_guid": "3f87f1b5-8bed-42ed-aba4-3b2244324e40",
                "id": "b961da55"
            },
            "source": [
                "Cuál es el promedio de las emisiones per capita para el año 2005 usando el dataframe 'df_emisions_co2_per_capita'?\n"
            ]
        },
        {
            "cell_type": "code",
            "execution_count": 18,
            "metadata": {
                "azdata_cell_guid": "fe76819d-d78b-4923-9982-967e36223207",
                "id": "e2f0a786",
                "language": "python"
            },
            "outputs": [
                {
                    "name": "stdout",
                    "output_type": "stream",
                    "text": [
                        "Promedio de emisiones per cápita en 2005: 5.29775\n"
                    ]
                }
            ],
            "source": [
                "# Coloque el código que responda a la pregunta aqui exactamente lo que se pregunta\n",
                "# Filtrar los datos del año 2005\n",
                "emisiones_2005 = df_emisions_co2_per_capita[df_emisions_co2_per_capita['Year'] == 2005]\n",
                "\n",
                "# Calcular el promedio de emisiones per cápita\n",
                "promedio_2005 = emisiones_2005['Value'].mean()\n",
                "\n",
                "print(f\"Promedio de emisiones per cápita en 2005: {promedio_2005}\")\n"
            ]
        },
        {
            "cell_type": "markdown",
            "metadata": {},
            "source": [
                "# Pregunta 15\n",
                "\n",
                "Usa el dataframe  'df_emisions_co2_per_capita' con las columnas Year y promedio_por_año para crear una gráfica de líneas que muestre la evolución del promedio de emisiones per cápita en Centroamérica a lo largo del tiempo; el eje X debe ser el año y el eje Y el promedio de emisiones."
            ]
        },
        {
            "cell_type": "code",
            "execution_count": 75,
            "metadata": {
                "vscode": {
                    "languageId": "bat"
                }
            },
            "outputs": [
                {
                    "name": "stdout",
                    "output_type": "stream",
                    "text": [
                        "Collecting matplotlib\n",
                        "  Downloading matplotlib-3.10.1-cp313-cp313-win_amd64.whl.metadata (11 kB)\n",
                        "Collecting contourpy>=1.0.1 (from matplotlib)\n",
                        "  Downloading contourpy-1.3.2-cp313-cp313-win_amd64.whl.metadata (5.5 kB)\n",
                        "Collecting cycler>=0.10 (from matplotlib)\n",
                        "  Using cached cycler-0.12.1-py3-none-any.whl.metadata (3.8 kB)\n",
                        "Collecting fonttools>=4.22.0 (from matplotlib)\n",
                        "  Downloading fonttools-4.57.0-cp313-cp313-win_amd64.whl.metadata (104 kB)\n",
                        "Collecting kiwisolver>=1.3.1 (from matplotlib)\n",
                        "  Downloading kiwisolver-1.4.8-cp313-cp313-win_amd64.whl.metadata (6.3 kB)\n",
                        "Requirement already satisfied: numpy>=1.23 in c:\\users\\infested\\appdata\\local\\programs\\python\\python313\\lib\\site-packages (from matplotlib) (2.2.4)\n",
                        "Requirement already satisfied: packaging>=20.0 in c:\\users\\infested\\appdata\\roaming\\python\\python313\\site-packages (from matplotlib) (24.2)\n",
                        "Collecting pillow>=8 (from matplotlib)\n",
                        "  Downloading pillow-11.2.1-cp313-cp313-win_amd64.whl.metadata (9.1 kB)\n",
                        "Collecting pyparsing>=2.3.1 (from matplotlib)\n",
                        "  Downloading pyparsing-3.2.3-py3-none-any.whl.metadata (5.0 kB)\n",
                        "Requirement already satisfied: python-dateutil>=2.7 in c:\\users\\infested\\appdata\\roaming\\python\\python313\\site-packages (from matplotlib) (2.9.0.post0)\n",
                        "Requirement already satisfied: six>=1.5 in c:\\users\\infested\\appdata\\roaming\\python\\python313\\site-packages (from python-dateutil>=2.7->matplotlib) (1.17.0)\n",
                        "Downloading matplotlib-3.10.1-cp313-cp313-win_amd64.whl (8.1 MB)\n",
                        "   ---------------------------------------- 0.0/8.1 MB ? eta -:--:--\n",
                        "   ------ --------------------------------- 1.3/8.1 MB 9.1 MB/s eta 0:00:01\n",
                        "   ------------------ --------------------- 3.7/8.1 MB 10.9 MB/s eta 0:00:01\n",
                        "   --------------------------- ------------ 5.5/8.1 MB 11.2 MB/s eta 0:00:01\n",
                        "   ---------------------------------------  7.9/8.1 MB 10.7 MB/s eta 0:00:01\n",
                        "   ---------------------------------------- 8.1/8.1 MB 9.8 MB/s eta 0:00:00\n",
                        "Downloading contourpy-1.3.2-cp313-cp313-win_amd64.whl (223 kB)\n",
                        "Using cached cycler-0.12.1-py3-none-any.whl (8.3 kB)\n",
                        "Downloading fonttools-4.57.0-cp313-cp313-win_amd64.whl (2.2 MB)\n",
                        "   ---------------------------------------- 0.0/2.2 MB ? eta -:--:--\n",
                        "   ---------------------------------------- 2.2/2.2 MB 17.7 MB/s eta 0:00:00\n",
                        "Downloading kiwisolver-1.4.8-cp313-cp313-win_amd64.whl (71 kB)\n",
                        "Downloading pillow-11.2.1-cp313-cp313-win_amd64.whl (2.7 MB)\n",
                        "   ---------------------------------------- 0.0/2.7 MB ? eta -:--:--\n",
                        "   ------------------- -------------------- 1.3/2.7 MB 7.4 MB/s eta 0:00:01\n",
                        "   ----------------------------------- ---- 2.4/2.7 MB 6.0 MB/s eta 0:00:01\n",
                        "   ---------------------------------------- 2.7/2.7 MB 5.0 MB/s eta 0:00:00\n",
                        "Downloading pyparsing-3.2.3-py3-none-any.whl (111 kB)\n",
                        "Installing collected packages: pyparsing, pillow, kiwisolver, fonttools, cycler, contourpy, matplotlib\n",
                        "Successfully installed contourpy-1.3.2 cycler-0.12.1 fonttools-4.57.0 kiwisolver-1.4.8 matplotlib-3.10.1 pillow-11.2.1 pyparsing-3.2.3\n",
                        "Note: you may need to restart the kernel to use updated packages.\n"
                    ]
                },
                {
                    "name": "stderr",
                    "output_type": "stream",
                    "text": [
                        "\n",
                        "[notice] A new release of pip is available: 24.3.1 -> 25.0.1\n",
                        "[notice] To update, run: python.exe -m pip install --upgrade pip\n"
                    ]
                }
            ],
            "source": [
                "pip install matplotlib"
            ]
        },
        {
            "cell_type": "code",
            "execution_count": 19,
            "metadata": {},
            "outputs": [
                {
                    "data": {
                        "image/png": "[encoded data removed]",
                        "text/plain": [
                            "<Figure size 1000x600 with 1 Axes>"
                        ]
                    },
                    "metadata": {},
                    "output_type": "display_data"
                }
            ],
            "source": [
                "# Coloque el código que responda a la pregunta aqui exactamente lo que se pregunta\n",
                "import matplotlib.pyplot as plt #Se importa libreria matplotlib\n",
                "\n",
                "# Lista de países de Centroamérica\n",
                "paises_centroamerica = ['El Salvador', 'Honduras', 'Guatemala', 'Costa Rica', 'Nicaragua']\n",
                "\n",
                "# Filtrar datos per cápita solo para esos países\n",
                "df_centroamerica_per_capita = df_emisions_co2_per_capita[df_emisions_co2_per_capita['Country'].isin(paises_centroamerica)]\n",
                "\n",
                "# Calcular promedio por año\n",
                "reporte_promedio_centroamerica = df_centroamerica_per_capita.groupby('Year')['Value'].mean().reset_index()\n",
                "reporte_promedio_centroamerica.columns = ['Year', 'promedio_por_año']\n",
                "#print(reporte_promedio_centroamerica)\n",
                "\n",
                "# Crear la gráfica\n",
                "plt.figure(figsize=(10, 6))\n",
                "plt.plot(reporte_promedio_centroamerica['Year'], reporte_promedio_centroamerica['promedio_por_año'], marker='o')\n",
                "plt.title('Evolución del Promedio de Emisiones per Cápita en Centroamérica')\n",
                "plt.xlabel('Año')\n",
                "plt.ylabel('Promedio de Emisiones per Cápita (toneladas métricas)')\n",
                "plt.grid(True)\n",
                "plt.tight_layout()\n",
                "plt.show()\n"
            ]
        }
    ],
    "metadata": {
        "colab": {
            "provenance": []
        },
        "kernelspec": {
            "display_name": "Python 3",
            "language": "python",
            "name": "python3"
        },
        "language_info": {
            "codemirror_mode": {
                "name": "ipython",
                "version": 3
            },
            "file_extension": ".py",
            "mimetype": "text/x-python",
            "name": "python",
            "nbconvert_exporter": "python",
            "pygments_lexer": "ipython3",
            "version": "3.13.2"
        }
    },
    "nbformat": 4,
    "nbformat_minor": 2
}
